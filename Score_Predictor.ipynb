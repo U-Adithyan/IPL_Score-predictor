{
  "nbformat": 4,
  "nbformat_minor": 0,
  "metadata": {
    "colab": {
      "name": "Score Predictor.ipynb",
      "provenance": [],
      "authorship_tag": "ABX9TyPd+nKXfIUHBTuqWm8nljnB",
      "include_colab_link": true
    },
    "kernelspec": {
      "name": "python3",
      "display_name": "Python 3"
    },
    "language_info": {
      "name": "python"
    }
  },
  "cells": [
    {
      "cell_type": "markdown",
      "metadata": {
        "id": "view-in-github",
        "colab_type": "text"
      },
      "source": [
        "<a href=\"https://colab.research.google.com/github/U-Adithyan/IPL_Score-predictor/blob/main/Score_Predictor.ipynb\" target=\"_parent\"><img src=\"https://colab.research.google.com/assets/colab-badge.svg\" alt=\"Open In Colab\"/></a>"
      ]
    },
    {
      "cell_type": "code",
      "metadata": {
        "id": "Jx3wL4sRhnAJ"
      },
      "source": [
        "from sklearn.svm import SVC\n",
        "import pandas as pd"
      ],
      "execution_count": null,
      "outputs": []
    },
    {
      "cell_type": "code",
      "metadata": {
        "id": "4AO2aa1DDOAj"
      },
      "source": [
        "#SRH\n",
        "data=pd.read_csv(\"/content/SRH.csv\")\n",
        "score=data[['Input']]\n",
        "total=data[['Total']]"
      ],
      "execution_count": null,
      "outputs": []
    },
    {
      "cell_type": "code",
      "metadata": {
        "id": "B4wEJ-KJDG9f"
      },
      "source": [
        "#RR\n",
        "data=pd.read_csv(\"/content/RR.csv\")\n",
        "score=data[['Input']]\n",
        "total=data[['Total']]"
      ],
      "execution_count": null,
      "outputs": []
    },
    {
      "cell_type": "code",
      "metadata": {
        "id": "p2ICH84JDC8l"
      },
      "source": [
        "#RCB\n",
        "data=pd.read_csv(\"/content/RCB.csv\")\n",
        "score=data[['Input']]\n",
        "total=data[['Total']]"
      ],
      "execution_count": null,
      "outputs": []
    },
    {
      "cell_type": "code",
      "metadata": {
        "id": "V2YDD0ouC5sA"
      },
      "source": [
        "#PBKS\n",
        "data=pd.read_csv(\"/content/PBKS.csv\")\n",
        "score=data[['Input']]\n",
        "total=data[['Total']]"
      ],
      "execution_count": null,
      "outputs": []
    },
    {
      "cell_type": "code",
      "metadata": {
        "id": "pw9UGw5YC3RL"
      },
      "source": [
        "#MI\n",
        "data=pd.read_csv(\"/content/MI.csv\")\n",
        "score=data[['Input']]\n",
        "total=data[['Total']]"
      ],
      "execution_count": null,
      "outputs": []
    },
    {
      "cell_type": "code",
      "metadata": {
        "id": "rrmEhZtCC1QF"
      },
      "source": [
        "#KKR\n",
        "data=pd.read_csv(\"/content/KKR.csv\")\n",
        "score=data[['Input']]\n",
        "total=data[['Total']]"
      ],
      "execution_count": null,
      "outputs": []
    },
    {
      "cell_type": "code",
      "metadata": {
        "id": "rR3esFtYCzdm"
      },
      "source": [
        "#DC\n",
        "data=pd.read_csv(\"/content/DC.csv\")\n",
        "score=data[['Input']]\n",
        "total=data[['Total']]"
      ],
      "execution_count": null,
      "outputs": []
    },
    {
      "cell_type": "code",
      "metadata": {
        "id": "f1H0nKIAqwSo"
      },
      "source": [
        "#CSK\n",
        "data=pd.read_csv(\"/content/CSK.csv\")\n",
        "score=data[['Input']]\n",
        "total=data[['Total']]"
      ],
      "execution_count": null,
      "outputs": []
    },
    {
      "cell_type": "code",
      "metadata": {
        "colab": {
          "base_uri": "https://localhost:8080/"
        },
        "id": "aALjIP17qWTK",
        "outputId": "67f22d80-7377-46da-e679-66d85a55e199"
      },
      "source": [
        "ML=SVC()\n",
        "ML=ML.fit(score,total)\n",
        "result=ML.predict([[50]])\n",
        "print(result)"
      ],
      "execution_count": null,
      "outputs": [
        {
          "output_type": "stream",
          "text": [
            "[163]\n"
          ],
          "name": "stdout"
        },
        {
          "output_type": "stream",
          "text": [
            "/usr/local/lib/python3.7/dist-packages/sklearn/utils/validation.py:760: DataConversionWarning: A column-vector y was passed when a 1d array was expected. Please change the shape of y to (n_samples, ), for example using ravel().\n",
            "  y = column_or_1d(y, warn=True)\n"
          ],
          "name": "stderr"
        }
      ]
    }
  ]
}